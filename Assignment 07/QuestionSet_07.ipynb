{
 "cells": [
  {
   "cell_type": "markdown",
   "id": "c5f50296-63e8-4e9d-9005-1d02dce994bb",
   "metadata": {},
   "source": [
    "# Assignment 7\n",
    "*This is an **individual** assignment.*\n",
    "\n",
    "The objective of this assignment is to give you experience using regular expressions.  Note that you may be able to figure out how to some problems without using regular expressions, but you will only recieve full credit if you use regular expressions!\n",
    "\n",
    "Please meet the specific requirements exactly. Do not change or remove any of the instructions; just add you name and NetID in the Markdown cell below and code in two code cells as indicated.  Please make sure to test your programs before submitting your solutions on Canvas!  You can add extra cells to debug, but please remove them before submitting as it makes grading easier."
   ]
  },
  {
   "cell_type": "markdown",
   "id": "942c4a65-e32a-4a0b-b874-835fd9094a16",
   "metadata": {},
   "source": [
    "**Name:** Example Solution\n",
    "\n",
    "**NetID:** NA"
   ]
  },
  {
   "cell_type": "markdown",
   "id": "6ee61be4-1265-490b-b07a-e3900c93f5d0",
   "metadata": {},
   "source": [
    "## Part 1: Extract domains from email addresses\n",
    "\n",
    "In this problem, you will extract a sorted list of domains from a collection of email addresses.\n",
    "\n",
    "To achieve this, use the folllowing steps.\n",
    "\n",
    "- Load email addresses data from `email_addresses.txt`\n",
    "- Use `re.findall` to find all domains in the email data\n",
    "- [Turn the resulting list into a set](https://www.geeksforgeeks.org/python-set-method/) to get rid of duplicates.\n",
    "- Sort the set of domains.\n",
    "- Write out the sorted domains to `email_domains.txt`."
   ]
  },
  {
   "cell_type": "code",
   "execution_count": null,
   "id": "78143bf3-3609-4fa9-b2e6-0c123effa008",
   "metadata": {
    "tags": []
   },
   "outputs": [],
   "source": [
    "# TODO: insert your code here!"
   ]
  },
  {
   "cell_type": "markdown",
   "id": "17a675d0-ab92-469e-9e02-cc208da77611",
   "metadata": {},
   "source": [
    "## Part 2: Standardize customer phone numbers\n",
    "\n",
    "Phone numbers can be provided in a wide variety of formats.  In this problem, you'll convert customer phone numbers to a standard format.  \n",
    "\n",
    "First, you'll read in data from `phone_numbers.csv` using `pandas`; the first five lines of this file look like this.\n",
    "\n",
    "```\n",
    "gender,phone.number                                                             \n",
    "male,(785) 750-5989                                                             \n",
    "female,472.232.3813                                                             \n",
    "male,+13607906573                                                               \n",
    "male,(505)644-0445 \n",
    "```\n",
    "\n",
    "This Jupyter notebook will walk you through the necessary steps.  At the end, you will export the resulting data to `reformatted_phone_numbers.csv`; the first five lines should match the following.\n",
    "\n",
    "```\n",
    "gender,phone.number                                                             \n",
    "male,785-750-5989                                                               \n",
    "female,472-232-3813                                                             \n",
    "male,360-790-6573                                                               \n",
    "male,505-644-0445 \n",
    "```\n",
    "\n",
    "Hint:looka at part 2 of assignmtn 6"
   ]
  },
  {
   "cell_type": "code",
   "execution_count": null,
   "id": "79bfd12b-3609-4019-bc84-2fa611947f29",
   "metadata": {},
   "outputs": [],
   "source": [
    "# TODO: Load customer data from 'phone_numbers.csv'"
   ]
  },
  {
   "cell_type": "code",
   "execution_count": null,
   "id": "b42ac249-33ab-40f8-ac48-4d97c5788aaa",
   "metadata": {},
   "outputs": [],
   "source": [
    "# TODO: Remove any non-digit characters in the phone.number column\n",
    "# Hint: we used the same method in Part 2 of Assignment 6, just without RE"
   ]
  },
  {
   "cell_type": "code",
   "execution_count": null,
   "id": "8239fcfb-0259-4121-a2f1-11e08031a3c6",
   "metadata": {},
   "outputs": [],
   "source": [
    "# TODO: Reformat the phone numbers to a 3-3-4 format\n",
    "# For example \"+12223330000\" will become \"222-333-0000\n",
    "# This might be the hardest thing to figure out.  Be patient with yourself!!"
   ]
  },
  {
   "cell_type": "code",
   "execution_count": null,
   "id": "06a8a9a5-b6de-4ed2-8571-beb53563aa7f",
   "metadata": {},
   "outputs": [],
   "source": [
    "# TODO: write out the resulting data to 'reformatted_phone_numbers.csv'"
   ]
  },
  {
   "cell_type": "markdown",
   "id": "cb424ddf-0cbf-4ad9-a646-1adcaff5d877",
   "metadata": {},
   "source": [
    "### Extra Credit!\n",
    "\n",
    "If you've made it this far you've completed all the required parts of this assignment.\n",
    "\n",
    "For some extra credit, let's map area codes to states and tally phone numbers by state. "
   ]
  },
  {
   "cell_type": "code",
   "execution_count": null,
   "id": "995318e9-55a6-4de7-b80b-ccae54308f10",
   "metadata": {},
   "outputs": [],
   "source": [
    "# TODO: use RE to extract the three digit area code at the start of each phone number \n",
    "# and create a new column for the area code. Later, it will be important to convert\n",
    "# this column to an int data type, so do so now!"
   ]
  },
  {
   "cell_type": "code",
   "execution_count": null,
   "id": "cd52a640-025a-4a69-9bea-ad195e0f5294",
   "metadata": {},
   "outputs": [],
   "source": [
    "# Pandas has a great method to scrape an HTML table and convert it to a DataFrame.  Let's use it!\n",
    "area_codes = pd.read_html(\"https://en.wikipedia.org/wiki/List_of_North_American_Numbering_Plan_area_codes\")[8]\n",
    "area_codes"
   ]
  },
  {
   "cell_type": "code",
   "execution_count": null,
   "id": "9b4f9a4b-1a20-4514-8684-8a7930cc49d9",
   "metadata": {},
   "outputs": [],
   "source": [
    "# TODO: use RE to get rid of the \" (list)\" in each row of the 'State' column"
   ]
  },
  {
   "cell_type": "code",
   "execution_count": null,
   "id": "d209ef7a-d591-4a7e-9736-750aafba9acb",
   "metadata": {},
   "outputs": [],
   "source": [
    "# Here's another handy trick: split the codes into a list\n",
    "area_codes = area_codes.assign(Codes=area_codes.Codes.str.split(\",\"))\n",
    "area_codes"
   ]
  },
  {
   "cell_type": "code",
   "execution_count": null,
   "id": "6c010c61-b9a7-44ab-8dc5-7ad4835d2462",
   "metadata": {},
   "outputs": [],
   "source": [
    "# Now let's explode that list!\n",
    "area_codes = area_codes.explode(\"Codes\").reset_index(drop=True)\n",
    "area_codes"
   ]
  },
  {
   "cell_type": "code",
   "execution_count": null,
   "id": "35729302-5c64-40c1-93d7-552145d1a677",
   "metadata": {},
   "outputs": [],
   "source": [
    "# TODO: Get rid of all rows with empty area codes (Arizona had a hanging comma at the end)\n",
    "# and create a area code column with an integer type (merging later won't work otherwise)\n",
    "# Why do we want ints?  Sometimes object columns can bring garbage with them that causes merges to fail."
   ]
  },
  {
   "cell_type": "code",
   "execution_count": null,
   "id": "5bfa8c77-038b-4aeb-83dc-798ae041484a",
   "metadata": {},
   "outputs": [],
   "source": [
    "# TODO: Merge our phone data with our area code data."
   ]
  },
  {
   "cell_type": "code",
   "execution_count": null,
   "id": "93a8a816-bbfa-4ca4-b6ec-ebb45ced4c65",
   "metadata": {},
   "outputs": [],
   "source": [
    "# TODO: Group by state and count the instances of each state."
   ]
  },
  {
   "cell_type": "code",
   "execution_count": null,
   "id": "5b12c109-bc48-43cd-a5a7-27dc60aebc4b",
   "metadata": {},
   "outputs": [],
   "source": [
    "# TODO: write out the resulting data to 'Customer_States.csv' (example lines shown below)"
   ]
  },
  {
   "cell_type": "markdown",
   "id": "1b37e283-b9f1-4d04-afbe-8cd71cb92f44",
   "metadata": {},
   "source": [
    "The extra credit output file `Customer_States.csv` should have the folllowoing first five lines.\n",
    "\n",
    "```\n",
    "State,Count                                                                     \n",
    "Alabama,5                                                                       \n",
    "Alaska,2                                                                        \n",
    "Arizona,11                                                                      \n",
    "Arkansas,91 \n",
    "```"
   ]
  }
 ],
 "metadata": {
  "kernelspec": {
   "display_name": "Python 3 (ipykernel)",
   "language": "python",
   "name": "python3"
  },
  "language_info": {
   "codemirror_mode": {
    "name": "ipython",
    "version": 3
   },
   "file_extension": ".py",
   "mimetype": "text/x-python",
   "name": "python",
   "nbconvert_exporter": "python",
   "pygments_lexer": "ipython3",
   "version": "3.10.9"
  }
 },
 "nbformat": 4,
 "nbformat_minor": 5
}
