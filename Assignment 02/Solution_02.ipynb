{
 "cells": [
  {
   "cell_type": "markdown",
   "id": "c2fd6660",
   "metadata": {},
   "source": [
    "# Assignment 2\n",
    "*This is an **individual** assignment.*\n",
    "\n",
    "The objective of this assignment is to give you experience composing programs with loops, string and list manipultion, and reading from and writing to files.\n",
    "\n",
    "Please meet the specific requirements exactly. Do not change or remove any of the instructions; just add you name and NetID in the Markdown cell below and code in two code cells as indicated.  Please make sure to test your programs before submitting your solutions on Canvas!  You can add extra cells to debug, but please remove them before submitting as it makes grading easier."
   ]
  },
  {
   "cell_type": "markdown",
   "id": "c18aae87",
   "metadata": {},
   "source": [
    "**Name:** Tirth Gala\n",
    "\n",
    "**NetID:** tg260"
   ]
  },
  {
   "cell_type": "markdown",
   "id": "a91b5039",
   "metadata": {},
   "source": [
    "## Part 1: Reformat Contacts\n",
    "You may download the `contacts.csv` file from Canvas.  Please write a snippet of code that does the following:\n",
    "- Opens the `contacts.csv` file.\n",
    "- Uses a `for` loop to iterate over the lines in the file.\n",
    "- For each line in the file, separate out the name (left side of the comma) from the phone number (right side.\n",
    "- Make sure to get rid of the newline character (use the string `strip()` method).\n",
    "- Print out the contact information in the format `Name: <NAME>              Phone: <PHONE>`.\n",
    "- Make sure the `Phone` strings all line up (see example below).  You can do this by using the `*` operator to duplicate the space character (' ') based on how long the name string is (use `len()`).\n",
    "- Close the `contacts.csv` file.\n",
    "\n",
    "For example, the first three lines of output should look like this:\n",
    "```\n",
    "Name: Bud Martinez        Phone: 350-369-6385\n",
    "Name: Elroy House         Phone: 659-207-5260\n",
    "Name: Joanne Hunt         Phone: 216-529-0943\n",
    "```\n",
    "\n",
    "---\n",
    "__Hint:__ *While we won't be covering every aspect of string formatting, there's a lot you can learn on your own to make your life easier!  Here's one place to start digging deeper: [Python String Formatting Best Practices](https://realpython.com/python-string-formatting/)*"
   ]
  },
  {
   "cell_type": "code",
   "execution_count": 23,
   "id": "f365ff06",
   "metadata": {
    "scrolled": true
   },
   "outputs": [
    {
     "name": "stdout",
     "output_type": "stream",
     "text": [
      "Name: Bud Martinez        Phone: 350-369-6385\n",
      "Name: Elroy House         Phone: 659-207-5260\n",
      "Name: Joanne Hunt         Phone: 216-529-0943\n",
      "Name: Giuseppe Tanner     Phone: 717-427-3552\n",
      "Name: Cristina Ho         Phone: 505-522-5375\n",
      "Name: Elijah Schroeder    Phone: 212-669-5301\n",
      "Name: Laurie Freeman      Phone: 505-771-2380\n",
      "Name: Marcia Rios         Phone: 505-575-4108\n",
      "Name: Peijun Cang         Phone: 505-622-6191\n",
      "Name: Dr. Everet McIntosh Phone: 202-918-2132\n",
      "Name: Petra Bird          Phone: 610-359-0628\n",
      "Name: MÃ¼zeyyen Sak       Phone: 509-236-3761\n",
      "Name: Phailin Kanlaya     Phone: 410-701-3092\n",
      "Name: Aradhana Natarajan  Phone: 304-266-4229\n",
      "Name: Henar GÃ³mez        Phone: 313-887-2856\n",
      "Name: Hing Leng           Phone: 505-687-2425\n",
      "Name: Aiko Akabane        Phone: 318-578-4258\n",
      "Name: Amit Nayar          Phone: 518-548-8362\n",
      "Name: Zhenguo Bi          Phone: 505-989-7684\n",
      "Name: Zhiguang Xiu        Phone: 225-842-7794\n",
      "Name: Elvia Barrett       Phone: 202-918-2132\n",
      "Name: Latonya Melendez    Phone: 321-630-7654\n",
      "Name: Mahendra Suresh     Phone: 234-356-3662\n"
     ]
    }
   ],
   "source": [
    "contact= open('contacts.csv','r')\n",
    "for line in contact.readlines():\n",
    "    line = line.strip().split(',')\n",
    "    print(\"Name: \" + line[0] + (20 - len(line[0]))*' ' + \"Phone: \" + line[1])\n",
    "contact.close()"
   ]
  },
  {
   "cell_type": "markdown",
   "id": "b5631d1e",
   "metadata": {},
   "source": [
    "## Part 2: SPAM remover\n",
    "\n",
    "You may download the `paragraph.txt` file from Canvas.  Please write a snippet of code that does the following:\n",
    "- Opens the `paragraph.txt` file, read it in, and close it.\n",
    "- For each line in the file, print out the number of times the word `SPAM` appears (use the `count()` method) in the format `Line <NUMBER>: <COUNT>` (see example below). \n",
    "- Remove all the instances of `SPAM` (use the `replace()` method) and write over the `paragraph.txt` file with the corrected text.\n",
    "- Make sure to get rid of the newline character (use the string `strip()` method).\n",
    "\n",
    "For example, the first five lines of output should look like this:\n",
    "```\n",
    "Line 1: 2\n",
    "Line 2: 1\n",
    "Line 3: 1\n",
    "Line 4: 0\n",
    "Line 5: 0\n",
    "```\n",
    "\n",
    "- **Hint 1:** *You may want to make a copy of the `paragraph.txt` file while you debug.*\n",
    "- **Hint 2:** *You can't write to the same file while you're reading from it.  You'll need to open the file once in \"read\" mode and once in \"write\" mode.*"
   ]
  },
  {
   "cell_type": "code",
   "execution_count": 25,
   "id": "28170351",
   "metadata": {},
   "outputs": [],
   "source": [
    "file =open(\"paragraph.txt\")\n",
    "n=file.readlines()\n",
    "file.close()\n",
    "\n",
    "file1 = open(\"paragraph.txt\", \"w\")\n",
    "line_count=1\n",
    "for line in n:\n",
    "    print(\"Line \" + str(line_count) + \": \" + str(line.count(\"SPAM\")))\n",
    "    file1.write(line.replace(\"SPAM\", \"\"))\n",
    "    line_count = line_count + 1\n",
    "file1.close()"
   ]
  },
  {
   "cell_type": "code",
   "execution_count": null,
   "id": "69220ba8",
   "metadata": {},
   "outputs": [],
   "source": []
  }
 ],
 "metadata": {
  "kernelspec": {
   "display_name": "Python 3 (ipykernel)",
   "language": "python",
   "name": "python3"
  },
  "language_info": {
   "codemirror_mode": {
    "name": "ipython",
    "version": 3
   },
   "file_extension": ".py",
   "mimetype": "text/x-python",
   "name": "python",
   "nbconvert_exporter": "python",
   "pygments_lexer": "ipython3",
   "version": "3.10.9"
  }
 },
 "nbformat": 4,
 "nbformat_minor": 5
}
