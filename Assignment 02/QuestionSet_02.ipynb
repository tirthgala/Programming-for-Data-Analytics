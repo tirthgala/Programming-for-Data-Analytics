{
 "cells": [
  {
   "cell_type": "markdown",
   "id": "c2fd6660",
   "metadata": {},
   "source": [
    "# Assignment 2\n",
    "*This is an **individual** assignment.*\n",
    "\n",
    "The objective of this assignment is to give you experience composing programs with loops, string and list manipultion, and reading from and writing to files.\n",
    "\n",
    "Please meet the specific requirements exactly. Do not change or remove any of the instructions; just add you name and NetID in the Markdown cell below and code in two code cells as indicated.  Please make sure to test your programs before submitting your solutions on Canvas!  You can add extra cells to debug, but please remove them before submitting as it makes grading easier."
   ]
  },
  {
   "cell_type": "markdown",
   "id": "c18aae87",
   "metadata": {},
   "source": [
    "**Name:** Example Solution\n",
    "\n",
    "**NetID:** NA"
   ]
  },
  {
   "cell_type": "markdown",
   "id": "a91b5039",
   "metadata": {},
   "source": [
    "## Part 1: Reformat Contacts\n",
    "You may download the `contacts.csv` file from Canvas.  Please write a snippet of code that does the following:\n",
    "- Opens the `contacts.csv` file.\n",
    "- Uses a `for` loop to iterate over the lines in the file.\n",
    "- For each line in the file, separate out the name (left side of the comma) from the phone number (right side.\n",
    "- Make sure to get rid of the newline character (use the string `strip()` method).\n",
    "- Print out the contact information in the format `Name: <NAME>              Phone: <PHONE>`.\n",
    "- Make sure the `Phone` strings all line up (see example below).  You can do this by using the `*` operator to duplicate the space character (' ') based on how long the name string is (use `len()`).\n",
    "- Close the `contacts.csv` file.\n",
    "\n",
    "For example, the first three lines of output should look like this:\n",
    "```\n",
    "Name: Bud Martinez        Phone: 350-369-6385\n",
    "Name: Elroy House         Phone: 659-207-5260\n",
    "Name: Joanne Hunt         Phone: 216-529-0943\n",
    "```\n",
    "\n",
    "---\n",
    "__Hint:__ *While we won't be covering every aspect of string formatting, there's a lot you can learn on your own to make your life easier!  Here's one place to start digging deeper: [Python String Formatting Best Practices](https://realpython.com/python-string-formatting/)*"
   ]
  },
  {
   "cell_type": "code",
   "execution_count": null,
   "id": "f365ff06",
   "metadata": {},
   "outputs": [],
   "source": [
    "# TODO: your code here!"
   ]
  },
  {
   "cell_type": "markdown",
   "id": "b5631d1e",
   "metadata": {},
   "source": [
    "## Part 2: SPAM remover\n",
    "\n",
    "You may download the `paragraph.txt` file from Canvas.  Please write a snippet of code that does the following:\n",
    "- Opens the `paragraph.txt` file, read it in, and close it.\n",
    "- For each line in the file, print out the number of times the word `SPAM` appears (use the `count()` method) in the format `Line <NUMBER>: <COUNT>` (see example below). \n",
    "- Remove all the instances of `SPAM` (use the `replace()` method) and write over the `paragraph.txt` file with the corrected text.\n",
    "- Make sure to get rid of the newline character (use the string `strip()` method).\n",
    "\n",
    "For example, the first five lines of output should look like this:\n",
    "```\n",
    "Line 1: 2\n",
    "Line 2: 1\n",
    "Line 3: 1\n",
    "Line 4: 0\n",
    "Line 5: 0\n",
    "```\n",
    "\n",
    "- **Hint 1:** *You may want to make a copy of the `paragraph.txt` file while you debug.*\n",
    "- **Hint 2:** *You can't write to the same file while you're reading from it.  You'll need to open the file once in \"read\" mode and once in \"write\" mode.*"
   ]
  },
  {
   "cell_type": "code",
   "execution_count": null,
   "id": "58854097",
   "metadata": {},
   "outputs": [],
   "source": [
    "# TODO: your code here!"
   ]
  }
 ],
 "metadata": {
  "kernelspec": {
   "display_name": "Python 3 (ipykernel)",
   "language": "python",
   "name": "python3"
  },
  "language_info": {
   "codemirror_mode": {
    "name": "ipython",
    "version": 3
   },
   "file_extension": ".py",
   "mimetype": "text/x-python",
   "name": "python",
   "nbconvert_exporter": "python",
   "pygments_lexer": "ipython3",
   "version": "3.10.9"
  }
 },
 "nbformat": 4,
 "nbformat_minor": 5
}
