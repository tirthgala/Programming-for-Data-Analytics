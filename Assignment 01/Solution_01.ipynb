{
 "cells": [
  {
   "cell_type": "markdown",
   "id": "907ae46f",
   "metadata": {},
   "source": [
    "# Assignment 1\n",
    "*This is an **individual** assignment.*\n",
    "\n",
    "The objective of this assignment is to give you experience composing programs to achieve specific goals. Now is not the moment for creativity; your goal is to ensure you can write programs to meet specific requirements.  You should be able to write these two short programs based on what you've learned in our first class session, but we expect many of you to have questions—please do not hesitate to ask them!  When you are done editing this notebook, please submit the file on Canvas.  Do not change or remove any of the instructions; just add you name and NetID in the Markdown cell below and code in two code cells as indicated.  Please make sure to test your programs before submitting your solutions! You can add extra cells to debug, but please remove them before submitting as it makes grading easier."
   ]
  },
  {
   "cell_type": "markdown",
   "id": "fe5a241c",
   "metadata": {},
   "source": [
    "**Name:** Tirth Gala\n",
    "\n",
    "**NetID:** tg260"
   ]
  },
  {
   "cell_type": "markdown",
   "id": "1c37b4f3",
   "metadata": {
    "tags": []
   },
   "source": [
    "## Part 1: Product Review Generator\n",
    "\n",
    "Your goal is to write a program that takes text input for six fields and format them into a review using the format below.  We've included two sample outputs; your code should be able to match these outputs **exactly**.\n",
    "\n",
    "**Some notes:**\n",
    "- The star symbols are special characters and can be copy-pasted into your program.\n",
    "- Blank lines can be added to your output by printing empty strings, or `print('')`.\n",
    "\n",
    "---\n",
    "**General Review Template:**\n",
    "```\n",
    "STARS\n",
    "HEADLINE\n",
    "\n",
    "I purchased this NOUN for USE.\n",
    "It is ADJECTIVE, but ADJECTIVE.\n",
    "```\n",
    "\n",
    "---\n",
    "**Sample Output 1:**\n",
    "\n",
    "```\n",
    "★★★☆☆\n",
    "print('headline')='Overpriced!'\n",
    "print('')\n",
    "Enter the product description: art print\n",
    "Enter product use: decorating my living room\n",
    "Enter an adjective about the product: nice-looking\n",
    "Enter a second adjective about the product: overpriced for what you get\n",
    "----------------------------------------\n",
    "\n",
    "★★★☆☆\n",
    "Overpriced!\n",
    "\n",
    "I purchased this art print for decorating my living room.\n",
    "It is nice looking, but overpriced for what you get.\n",
    "```\n",
    "\n",
    "---\n",
    "**Sample Output 2:**\n",
    "\n",
    "```\n",
    "Enter the star rating: 4\n",
    "Enter the review headline: Decent Blender\n",
    "Enter the product description: blender\n",
    "Enter product use: making smoothies\n",
    "Enter an adjective about the product: not fancy\n",
    "Enter a second adjective about the product: does the job\n",
    "----------------------------------------\n",
    "\n",
    "★★★★☆\n",
    "Decent Blender\n",
    "\n",
    "I purchased this blender for making smoothies.\n",
    "It is not fancy, but does the job.\n",
    "```"
   ]
  },
  {
   "cell_type": "code",
   "execution_count": 3,
   "id": "28a5a287",
   "metadata": {},
   "outputs": [
    {
     "name": "stdout",
     "output_type": "stream",
     "text": [
      "Enter the star rating:3\n",
      "3\n",
      "Enter the review headline:Overpriced!\n",
      "Overpriced!\n",
      "Enter the product description:art print\n",
      "art print\n",
      "Enter product use:decorating my living room\n",
      "decorating my living room\n",
      "Enter an adjective about the product:nice-looking\n",
      "nice-looking\n",
      "Enter a second adjective about the product:overpriced for what you get\n",
      "overpriced for what you get\n",
      "----------------------------------------\n",
      "★★★☆☆\n",
      "Overpriced!\n",
      "\n",
      "I purchased this art print for decorating my living room.\n",
      "It is nice-looking , but overpriced for what you get.\n"
     ]
    }
   ],
   "source": [
    "n=int(input('Enter the star rating:'))\n",
    "print(n)\n",
    "n1= \"★\"*n\n",
    "n2= \"☆\"*(5-n)\n",
    "\n",
    "h=input('Enter the review headline:')\n",
    "print(h)\n",
    "\n",
    "pd=input('Enter the product description:')\n",
    "print(pd)\n",
    "\n",
    "pu=input('Enter product use:')\n",
    "print(pu)\n",
    "\n",
    "fadj=input('Enter an adjective about the product:')\n",
    "print(fadj)\n",
    "\n",
    "sadj=input('Enter a second adjective about the product:')\n",
    "print(sadj)\n",
    "\n",
    "print('----------------------------------------')\n",
    "print(n1+n2)\n",
    "print(h)\n",
    "print(\"\\nI purchased this \" + pd + \" for \" + pu + \".\" + \"\\n\" +  \"It is \" + fadj + \" , \" + \"but \" + sadj + \".\")"
   ]
  },
  {
   "cell_type": "markdown",
   "id": "7d4ba938",
   "metadata": {},
   "source": [
    "## Part 2: Compound Interest Calculator\n",
    "\n",
    "Implement a compount interest calculator based on the stanadrd formula: $A = P\\left(1 + \\frac{r}{n}\\right)^{nt}$, where\n",
    "- $A$ is the final amount\n",
    "- $P$ is the initial principal balance\n",
    "- $r$ is the interest rate\n",
    "- $n$ is the number of times interest applied per time period, and\n",
    "- $t$ is the number of time periods elapsed.\n",
    "\n",
    "Your program should take four inputs and print out the final amount to *no more than two decimal places*.  You will want to use Python's built-in rounding function, e.g., `round(pi, 2)` to get the final amount to only two decimal places.  Two sample outputs are included below; again, your program should be able to reproduce these outputs **exactly**.\n",
    "\n",
    "---\n",
    "**Sample Output 1:**\n",
    "\n",
    "```\n",
    "Initial principal balance (P): 100\n",
    "Interest rate (r): 0.05\n",
    "Number of times interest applied per time period (n): 12\n",
    "Number of time periods (t): 10\n",
    "\n",
    "FINAL AMOUNT: $164.7\n",
    "```\n",
    "\n",
    "---\n",
    "**Sample Output 2:**\n",
    "\n",
    "```\n",
    "Initial principal balance (P): 10000\n",
    "Interest rate (r): 0.0123\n",
    "Number of times interest applied per time period (n): 365\n",
    "Number of time periods (t): 30\n",
    "\n",
    "FINAL AMOUNT: $14462.79\n",
    "```"
   ]
  },
  {
   "cell_type": "code",
   "execution_count": 2,
   "id": "94e1b9a3",
   "metadata": {},
   "outputs": [
    {
     "name": "stdout",
     "output_type": "stream",
     "text": [
      "Initial principal balance (P): 10000\n",
      "10000\n",
      "Interest rate (r):0.0123\n",
      "0.0123\n",
      "Number of times interest applied per time period (n):365\n",
      "365\n",
      "Number of time periods (t):30\n",
      "30\n",
      "FINAL AMOUNT: $14462.79\n"
     ]
    }
   ],
   "source": [
    "P=int(input('Initial principal balance (P): '))\n",
    "print(P)\n",
    "\n",
    "r=float(input('Interest rate (r):'))\n",
    "print(r)\n",
    "\n",
    "N=int(input('Number of times interest applied per time period (n):'))\n",
    "print(N)\n",
    "\n",
    "t=int(input('Number of time periods (t):'))\n",
    "print(t)\n",
    "\n",
    "A= P*(pow((1+(r/N)),N*t))\n",
    "\n",
    "r1=str(round(A,2))\n",
    "print('FINAL AMOUNT: $'+ r1 )"
   ]
  },
  {
   "cell_type": "code",
   "execution_count": null,
   "id": "d32adb15",
   "metadata": {},
   "outputs": [],
   "source": []
  }
 ],
 "metadata": {
  "kernelspec": {
   "display_name": "Python 3 (ipykernel)",
   "language": "python",
   "name": "python3"
  },
  "language_info": {
   "codemirror_mode": {
    "name": "ipython",
    "version": 3
   },
   "file_extension": ".py",
   "mimetype": "text/x-python",
   "name": "python",
   "nbconvert_exporter": "python",
   "pygments_lexer": "ipython3",
   "version": "3.10.9"
  }
 },
 "nbformat": 4,
 "nbformat_minor": 5
}
