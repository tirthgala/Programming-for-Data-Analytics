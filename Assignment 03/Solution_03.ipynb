{
 "cells": [
  {
   "cell_type": "markdown",
   "id": "c2fd6660",
   "metadata": {},
   "source": [
    "# Assignment 3\n",
    "*This is assignment is to be done **individually**.*\n",
    "\n",
    "The objective of this assignment is to give you experience composing programs with conditional execution, while loops, and comparison and logical operators.\n",
    "\n",
    "Please meet the specific requirements exactly. Do not change or remove any of the instructions; just add you name and NetID in the Markdown cell below and code in the code cells as indicated.  Please make sure to test your programs before submitting your solutions on Canvas!  You can add extra cells to debug, but please remove them before submitting."
   ]
  },
  {
   "cell_type": "markdown",
   "id": "c18aae87",
   "metadata": {},
   "source": [
    "**Name:** Example Solution\n",
    "\n",
    "**NetID:** NA"
   ]
  },
  {
   "cell_type": "markdown",
   "id": "a91b5039",
   "metadata": {},
   "source": [
    "## Part 1: Loan Calculator\n",
    "\n",
    "Imagine that you have a loan for \\\\$50,000, with an annual interest rate of 6% (compounded monthly), and a monthly payment of \\\\$1,000, as indicated in the code scaffold below.  Using a `while` loop, calculate how many years and months it will take to pay off the loan. \n",
    "\n",
    "*And yes, we know that some of you can do this with Excel in your sleep, but these exercises help build your programming skills so that when you encounter problems too complicated for Excel, you'll be ready!*"
   ]
  },
  {
   "cell_type": "code",
   "execution_count": 59,
   "id": "f365ff06",
   "metadata": {},
   "outputs": [],
   "source": [
    "# Set up variables for the loan\n",
    "# Note: do not edit this cell!\n",
    "remaining_balance = 50000\n",
    "interest_rate = 0.06\n",
    "monthly_payment = 1000"
   ]
  },
  {
   "cell_type": "code",
   "execution_count": 60,
   "id": "328e618a-7b36-4acd-b9a7-a81845631c92",
   "metadata": {
    "scrolled": false
   },
   "outputs": [],
   "source": [
    "month_start = 0\n",
    "while remaining_balance > 0:\n",
    "    monthly_interest = remaining_balance * (interest_rate / 12)\n",
    "    remaining_balance= (remaining_balance + monthly_interest) - monthly_payment\n",
    "    month_start +=1\n",
    "years = month_start//12\n",
    "months = month_start%12"
   ]
  },
  {
   "cell_type": "code",
   "execution_count": 61,
   "id": "63ccf2ce-1507-4bf2-9570-3e5b4dfef248",
   "metadata": {},
   "outputs": [
    {
     "name": "stdout",
     "output_type": "stream",
     "text": [
      "It will take 4 years and 10 months to pay off the loan.\n"
     ]
    }
   ],
   "source": [
    "# Print the time to pay off the loan here\n",
    "# Note: do not edit this cell!\n",
    "print(\"It will take \" + str(years) + \" years and \" + str(months) + \n",
    "      \" months to pay off the loan.\")"
   ]
  },
  {
   "cell_type": "markdown",
   "id": "b5631d1e",
   "metadata": {
    "tags": []
   },
   "source": [
    "## Part 2: Discount Calculator\n",
    "\n",
    "In this problem, you'll be reading shopping cart data from a file and applying the appropriate discount.\n",
    "\n",
    "The `carts.dat` file contains one shopping cart per line.  Each line contains the prices of the items in the cart, separated by semicolons.  For example, the first five lines of the file are:\n",
    "\n",
    "```\n",
    "50;30;20;35;35;20\n",
    "25;70;35;30;45;40\n",
    "20;50;55;35;25;5;25\n",
    "5;25;5;5;10;30;30;5;30;25\n",
    "25;5;10\n",
    "```\n",
    "\n",
    "Your goal is to write a program that reads in this file and calculated the total purchase amount for each cart.  Then you will apply the following discount rates:\n",
    "\n",
    "- If the purchase amount is less than \\$100, apply a 5% discount.\n",
    "- If the purchase amount is between \\\\$100 and \\\\$500 (inclusive), apply a 10% discount.\n",
    "- If the purchase amount is greater than \\$500, apply a 15% discount.\n",
    "\n",
    "For each cart, write out the final amount after applying the discount, one cart per file to `cart_totals.dat`.  For example, the first five lines of `cart_totals.dat` should be as follows:\n",
    "\n",
    "```\n",
    "Cart #1: 171\n",
    "Cart #2: 220\n",
    "Cart #3: 193\n",
    "Cart #4: 153\n",
    "Cart #5: 38\n",
    "```\n",
    "\n",
    "**Please use this exact formatting!**  You may also want to output these amounts in Jupyter while you refine the program, but you will be graded based on the `cart_totals.dat` file your program outputs.\n",
    "\n",
    "---\n",
    "__Hint 1:__ *At this point you should be comfortable enough with the standard Python operators that you can optionally check out the [augmented operators](https://realpython.com/python-assignment-operator/#augmented-mathematical-assignment-operators) to tighten up your code.  Note that not every language has these available (R doesn't), but they can still be handy!*\n",
    "\n",
    "__Hint 2:__ *While you can do this assignment without it, this is a great opportunity to practice using [list comprehesion](https://realpython.com/list-comprehension-python/)! More resources:*\n",
    "- *[W3 Schools on list comprehesion](https://www.w3schools.com/python/python_lists_comprehension.asp)*\n",
    "- *[Treehouse tutorial on one line for loops](https://blog.teamtreehouse.com/python-single-line-loops)*\n",
    "\n",
    "__Hint 3:__ *Now is also a great time to learn to use Python's built-in\n",
    "[`sum`](https://docs.python.org/3/library/functions.html#sum) function.  (Optional, but useful!) Here are some other resources you can look at:*\n",
    "- *[W3 Schools on the `sum` function](https://www.w3schools.com/python/ref_func_sum.asp)*\n",
    "- *[Python Guru with examples](https://thepythonguru.com/python-builtin-functions/sum/)*\n",
    "- *[A detailed tutorial on the `sum` function](https://realpython.com/python-sum-function/)*\n",
    "\n"
   ]
  },
  {
   "cell_type": "code",
   "execution_count": 61,
   "id": "58854097",
   "metadata": {
    "scrolled": true
   },
   "outputs": [],
   "source": [
    "new_carts = open('cart_totals.dat','w')\n",
    "with open('carts.dat','r') as carts:\n",
    "    x=carts.readlines()\n",
    "for i in range(0,len(x)):\n",
    "    t = x[i].strip().split(\";\")\n",
    "    t_value=0\n",
    "    for h in range(0,len(t)):\n",
    "        t_value= t_value + int(t[h])\n",
    "    if t_value<100:\n",
    "        t_value=t_value*0.95\n",
    "    elif t_value>= 100 and t_value<=500:\n",
    "        t_value = t_value*0.90\n",
    "    else:\n",
    "        t_value = t_value*0.85\n",
    "    bill_stat = (f'Cart #{i+1}: {int(t_value)}\\n')\n",
    "    new_carts.writelines(bill_stat)\n",
    "carts.close()\n",
    "new_carts.close()"
   ]
  }
 ],
 "metadata": {
  "kernelspec": {
   "display_name": "Python 3 (ipykernel)",
   "language": "python",
   "name": "python3"
  },
  "language_info": {
   "codemirror_mode": {
    "name": "ipython",
    "version": 3
   },
   "file_extension": ".py",
   "mimetype": "text/x-python",
   "name": "python",
   "nbconvert_exporter": "python",
   "pygments_lexer": "ipython3",
   "version": "3.10.9"
  }
 },
 "nbformat": 4,
 "nbformat_minor": 5
}
