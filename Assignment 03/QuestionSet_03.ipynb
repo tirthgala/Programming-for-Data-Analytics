{
 "cells": [
  {
   "cell_type": "markdown",
   "id": "c2fd6660",
   "metadata": {},
   "source": [
    "# Assignment 3\n",
    "*This is assignment is to be done **individually**.*\n",
    "\n",
    "The objective of this assignment is to give you experience composing programs with conditional execution, while loops, and comparison and logical operators.\n",
    "\n",
    "Please meet the specific requirements exactly. Do not change or remove any of the instructions; just add you name and NetID in the Markdown cell below and code in the code cells as indicated.  Please make sure to test your programs before submitting your solutions on Canvas!  You can add extra cells to debug, but please remove them before submitting."
   ]
  },
  {
   "cell_type": "markdown",
   "id": "c18aae87",
   "metadata": {},
   "source": [
    "**Name:** Example Solution\n",
    "\n",
    "**NetID:** NA"
   ]
  },
  {
   "cell_type": "markdown",
   "id": "a91b5039",
   "metadata": {},
   "source": [
    "## Part 1: Loan Calculator\n",
    "\n",
    "Imagine that you have a loan for \\\\$50,000, with an annual interest rate of 6% (compounded monthly), and a monthly payment of \\\\$1,000, as indicated in the code scaffold below.  Using a `while` loop, calculate how many years and months it will take to pay off the loan. \n",
    "\n",
    "*And yes, we know that some of you can do this with Excel in your sleep, but these exercises help build your programming skills so that when you encounter problems too complicated for Excel, you'll be ready!*"
   ]
  },
  {
   "cell_type": "code",
   "execution_count": 7,
   "id": "f365ff06",
   "metadata": {},
   "outputs": [],
   "source": [
    "# Set up variables for the loan\n",
    "# Note: do not edit this cell!\n",
    "remaining_balance = 50000\n",
    "interest_rate = 0.06\n",
    "monthly_payment = 1000"
   ]
  },
  {
   "cell_type": "code",
   "execution_count": 8,
   "id": "d5d293a1",
   "metadata": {},
   "outputs": [],
   "source": [
    "months = 0\n",
    "while remaining_balance > 0:\n",
    "    interest = remaining_balance * (interest_rate/12)\n",
    "    remaining_balance= (remaining_balance + interest) - monthly_payment\n",
    "    months += 1\n",
    "years = months // 12\n",
    "months = months % 12"
   ]
  },
  {
   "cell_type": "code",
   "execution_count": 9,
   "id": "63ccf2ce-1507-4bf2-9570-3e5b4dfef248",
   "metadata": {},
   "outputs": [
    {
     "name": "stdout",
     "output_type": "stream",
     "text": [
      "It will take 4 years and 10 months to pay off the loan.\n"
     ]
    }
   ],
   "source": [
    "# Print the time to pay off the loan here\n",
    "# Note: do not edit this cell!\n",
    "print(\"It will take \" + str(years) + \" years and \" + str(months) + \n",
    "      \" months to pay off the loan.\")"
   ]
  },
  {
   "cell_type": "markdown",
   "id": "b5631d1e",
   "metadata": {
    "tags": []
   },
   "source": [
    "## Part 2: Discount Calculator\n",
    "\n",
    "In this problem, you'll be reading shopping cart data from a file and applying the appropriate discount.\n",
    "\n",
    "The `carts.dat` file contains one shopping cart per line.  Each line contains the prices of the items in the cart, separated by semicolons.  For example, the first five lines of the file are:\n",
    "\n",
    "```\n",
    "50;30;20;35;35;20\n",
    "25;70;35;30;45;40\n",
    "20;50;55;35;25;5;25\n",
    "5;25;5;5;10;30;30;5;30;25\n",
    "25;5;10\n",
    "```\n",
    "\n",
    "Your goal is to write a program that reads in this file and calculated the total purchase amount for each cart.  Then you will apply the following discount rates:\n",
    "\n",
    "- If the purchase amount is less than \\$100, apply a 5% discount.\n",
    "- If the purchase amount is between \\\\$100 and \\\\$500 (inclusive), apply a 10% discount.\n",
    "- If the purchase amount is greater than \\$500, apply a 15% discount.\n",
    "\n",
    "For each cart, write out the final amount after applying the discount, one cart per file to `cart_totals.dat`.  For example, the first five lines of `cart_totals.dat` should be as follows:\n",
    "\n",
    "```\n",
    "Cart #1: 171\n",
    "Cart #2: 220\n",
    "Cart #3: 193\n",
    "Cart #4: 153\n",
    "Cart #5: 38\n",
    "```\n",
    "\n",
    "**Please use this exact formatting!**  You may also want to output these amounts in Jupyter while you refine the program, but you will be graded based on the `cart_totals.dat` file your program outputs.\n",
    "\n",
    "---\n",
    "__Hint 1:__ *At this point you should be comfortable enough with the standard Python operators that you can optionally check out the [augmented operators](https://realpython.com/python-assignment-operator/#augmented-mathematical-assignment-operators) to tighten up your code.  Note that not every language has these available (R doesn't), but they can still be handy!*\n",
    "\n",
    "__Hint 2:__ *While you can do this assignment without it, this is a great opportunity to practice using [list comprehesion](https://realpython.com/list-comprehension-python/)! More resources:*\n",
    "- *[W3 Schools on list comprehesion](https://www.w3schools.com/python/python_lists_comprehension.asp)*\n",
    "- *[Treehouse tutorial on one line for loops](https://blog.teamtreehouse.com/python-single-line-loops)*\n",
    "\n",
    "__Hint 3:__ *Now is also a great time to learn to use Python's built-in\n",
    "[`sum`](https://docs.python.org/3/library/functions.html#sum) function.  (Optional, but useful!) Here are some other resources you can look at:*\n",
    "- *[W3 Schools on the `sum` function](https://www.w3schools.com/python/ref_func_sum.asp)*\n",
    "- *[Python Guru with examples](https://thepythonguru.com/python-builtin-functions/sum/)*\n",
    "- *[A detailed tutorial on the `sum` function](https://realpython.com/python-sum-function/)*\n",
    "\n"
   ]
  },
  {
   "cell_type": "code",
   "execution_count": 17,
   "id": "58854097",
   "metadata": {
    "scrolled": true
   },
   "outputs": [
    {
     "name": "stdout",
     "output_type": "stream",
     "text": [
      "Cart #1: 171\n",
      "Cart #2: 220\n",
      "Cart #3: 193\n",
      "Cart #4: 153\n",
      "Cart #5: 38\n",
      "Cart #6: 135\n",
      "Cart #7: 76\n",
      "Cart #8: 548\n",
      "Cart #9: 216\n",
      "Cart #10: 590\n",
      "Cart #11: 211\n",
      "Cart #12: 139\n",
      "Cart #13: 9\n",
      "Cart #14: 189\n",
      "Cart #15: 360\n",
      "Cart #16: 315\n",
      "Cart #17: 423\n",
      "Cart #18: 373\n",
      "Cart #19: 315\n",
      "Cart #20: 90\n",
      "Cart #21: 23\n",
      "Cart #22: 297\n",
      "Cart #23: 76\n",
      "Cart #24: 418\n",
      "Cart #25: 28\n",
      "Cart #26: 180\n",
      "Cart #27: 57\n",
      "Cart #28: 256\n",
      "Cart #29: 85\n",
      "Cart #30: 71\n",
      "Cart #31: 225\n",
      "Cart #32: 552\n",
      "Cart #33: 301\n",
      "Cart #34: 94\n",
      "Cart #35: 117\n",
      "Cart #36: 162\n",
      "Cart #37: 319\n",
      "Cart #38: 333\n",
      "Cart #39: 85\n",
      "Cart #40: 47\n",
      "Cart #41: 207\n",
      "Cart #42: 171\n",
      "Cart #43: 207\n",
      "Cart #44: 57\n",
      "Cart #45: 429\n",
      "Cart #46: 76\n",
      "Cart #47: 193\n",
      "Cart #48: 333\n",
      "Cart #49: 216\n",
      "Cart #50: 211\n",
      "Cart #51: 252\n",
      "Cart #52: 126\n",
      "Cart #53: 38\n",
      "Cart #54: 85\n",
      "Cart #55: 28\n",
      "Cart #56: 373\n",
      "Cart #57: 175\n",
      "Cart #58: 450\n",
      "Cart #59: 261\n",
      "Cart #60: 433\n",
      "Cart #61: 121\n",
      "Cart #62: 247\n",
      "Cart #63: 162\n",
      "Cart #64: 76\n",
      "Cart #65: 52\n",
      "Cart #66: 23\n",
      "Cart #67: 23\n",
      "Cart #68: 61\n",
      "Cart #69: 80\n",
      "Cart #70: 333\n",
      "Cart #71: 42\n",
      "Cart #72: 71\n",
      "Cart #73: 378\n",
      "Cart #74: 153\n",
      "Cart #75: 423\n",
      "Cart #76: 247\n",
      "Cart #77: 66\n",
      "Cart #78: 47\n",
      "Cart #79: 450\n",
      "Cart #80: 256\n",
      "Cart #81: 28\n",
      "Cart #82: 297\n",
      "Cart #83: 436\n",
      "Cart #84: 108\n",
      "Cart #85: 283\n",
      "Cart #86: 61\n",
      "Cart #87: 90\n",
      "Cart #88: 450\n",
      "Cart #89: 90\n",
      "Cart #90: 396\n",
      "Cart #91: 14\n",
      "Cart #92: 378\n",
      "Cart #93: 436\n",
      "Cart #94: 130\n",
      "Cart #95: 527\n",
      "Cart #96: 229\n",
      "Cart #97: 76\n",
      "Cart #98: 33\n",
      "Cart #99: 90\n",
      "Cart #100: 42\n"
     ]
    }
   ],
   "source": [
    "file = open(\"carts.dat\",\"r\")\n",
    "file1 = open(\"cart_totals.dat\",\"w\")\n",
    "cart_id = 1\n",
    "for line in file:\n",
    "    prices = [int(price) for price in line.strip().split(\";\")]\n",
    "    total = sum(prices)\n",
    "    if total < 100:\n",
    "        total -= total*0.05\n",
    "    elif total > 500:\n",
    "        total -= total*0.15\n",
    "    else:\n",
    "        total -= total*0.10\n",
    "    x= \"Cart #%d: %d\" % (cart_id,total)\n",
    "    cart_id += 1\n",
    "    print(x)\n",
    "    file1.write(x)\n",
    "file.close()\n",
    "file1.close()"
   ]
  }
 ],
 "metadata": {
  "kernelspec": {
   "display_name": "Python 3 (ipykernel)",
   "language": "python",
   "name": "python3"
  },
  "language_info": {
   "codemirror_mode": {
    "name": "ipython",
    "version": 3
   },
   "file_extension": ".py",
   "mimetype": "text/x-python",
   "name": "python",
   "nbconvert_exporter": "python",
   "pygments_lexer": "ipython3",
   "version": "3.10.9"
  }
 },
 "nbformat": 4,
 "nbformat_minor": 5
}
