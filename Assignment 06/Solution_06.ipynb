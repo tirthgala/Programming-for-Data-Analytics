{
 "cells": [
  {
   "cell_type": "markdown",
   "id": "c5f50296-63e8-4e9d-9005-1d02dce994bb",
   "metadata": {},
   "source": [
    "# Assignment 6\n",
    "*This is an **individual** assignment.*\n",
    "\n",
    "The objective of this assignment is to give you experience importing and using the [Pandas library](https://pandas.pydata.org/) for data manipulation.\n",
    "\n",
    "Please meet the specific requirements exactly. Do not change or remove any of the instructions; just add you name and NetID in the Markdown cell below and code in two code cells as indicated.  Please make sure to test your programs before submitting your solutions on Canvas!  You can add extra cells to debug, but please remove them before submitting as it makes grading easier."
   ]
  },
  {
   "cell_type": "markdown",
   "id": "942c4a65-e32a-4a0b-b874-835fd9094a16",
   "metadata": {},
   "source": [
    "**Name:** Tirth Gala\n",
    "\n",
    "**NetID:** tg260"
   ]
  },
  {
   "cell_type": "markdown",
   "id": "6ee61be4-1265-490b-b07a-e3900c93f5d0",
   "metadata": {},
   "source": [
    "## Part 1: Customer Segmentation\n",
    "\n",
    "In this problem, you'll group customers by their demographic attributes to segment customers and compute the avaerage spending beavior by group.  This can help target marketing campaigns effectively.\n",
    "\n",
    "### Step 1: Use `pandas` to load the data and take a look at how it is structured \n",
    "\n",
    "There are two data files: `customers.csv` and `purchases.csv`. "
   ]
  },
  {
   "cell_type": "code",
   "execution_count": 1,
   "id": "78143bf3-3609-4fa9-b2e6-0c123effa008",
   "metadata": {
    "tags": []
   },
   "outputs": [],
   "source": [
    "# TODO: Load customer data from 'customers.csv'\n",
    "import pandas as pd\n",
    "customer_data = pd.read_csv(\"customers.csv\")"
   ]
  },
  {
   "cell_type": "code",
   "execution_count": 2,
   "id": "2f97c38a-3718-4c51-b71e-0134ed9b3581",
   "metadata": {},
   "outputs": [],
   "source": [
    "# TODO: Load purchase data from 'purchases.csv'\n",
    "purchase_data = pd.read_csv(\"purchases.csv\")"
   ]
  },
  {
   "cell_type": "markdown",
   "id": "ff0800c3-0467-4d99-9de0-b74dc67a0ab9",
   "metadata": {},
   "source": [
    "### Step 2: Manipulate the data into more usable formats\n",
    "\n",
    "There are a few issues with this data that we need to correct before using it. \n",
    "\n",
    "First: it's hard to group people based on indiivudal ages, so let's create three age buckets.  If you named your customer `DataFrame` `customer_data`, you can just use the cell below; otherwise you'll just need to change the `DataFrame` variable name to match what you did above."
   ]
  },
  {
   "cell_type": "code",
   "execution_count": 3,
   "id": "6a0b8606-f0db-4b3a-94e0-1fc87137530c",
   "metadata": {},
   "outputs": [],
   "source": [
    "# Add a new age group column so we can use that to group customers\n",
    "bins= [18,35,55,100]\n",
    "labels = ['18-34', '35-54', '55+']\n",
    "customer_data['age.group'] = pd.cut(customer_data['age'], bins=bins, labels=labels, right=False)"
   ]
  },
  {
   "cell_type": "markdown",
   "id": "44260fee-e681-4d56-9deb-842ecf19583a",
   "metadata": {},
   "source": [
    "Now notice the shape of the purchase data?  This is sometimes called \"wide\" data (but the term is not very precise).  It will be more useful to us in a three-column format with `customer.id`, `purchase.category`, and `spending` being the column names.  Use the `melt` method to achieve this."
   ]
  },
  {
   "cell_type": "code",
   "execution_count": 4,
   "id": "b515e03a-d4c4-4420-a00c-caf44cea0101",
   "metadata": {},
   "outputs": [],
   "source": [
    "# TODO: Melt the purchase data into a three-column data frame (customer.id, purchase.category, spending)\n",
    "\n",
    "purchase_melt= pd.melt(purchase_data, id_vars=[\"customer.id\"], value_vars=[\"Auto\",\"Clothing & Accessories\",\"Electronics\",\"Furniture\",\"Grocery\",\"Housewares\",\"Patio & Garden\",\"Personal Care\",\"Pharmacy & Health\",\"Sports & Outdoors\",\"Toys & Games\"], var_name=\"purchase.category\", value_name=\"spending\")"
   ]
  },
  {
   "cell_type": "markdown",
   "id": "34d5ec38-8809-4251-bc9d-461fc86a1b03",
   "metadata": {},
   "source": [
    "### Step 3: Merge the data\n",
    "\n",
    "Now you want to merge both the customer data and the purchase data into one `DataFrame`."
   ]
  },
  {
   "cell_type": "code",
   "execution_count": 5,
   "id": "378d06ed-c3ae-4ad0-9994-23d368263391",
   "metadata": {},
   "outputs": [],
   "source": [
    "# TODO: merge customer and purchase data\n",
    "m_purchase_data = pd.merge(customer_data, purchase_data, on='customer.id')"
   ]
  },
  {
   "cell_type": "markdown",
   "id": "e5bd78c0-2254-40e1-b144-d04794d94ea1",
   "metadata": {},
   "source": [
    "### Step 4: Compute and write out some useful summary data\n",
    "\n",
    "Finally, we want to group the data by `age.group`, `gender`, and `purchase.category`; calculate average purchase amount per group; and write the resulting `DataFrame` out to `average_spending_by_demographics.csv`.  The first five lines of this file should look as follows.\n",
    "\n",
    "```\n",
    "age.group,gender,purchase.category,spending                                     \n",
    "18-34,female,Auto,100.63157894736842                                            \n",
    "18-34,female,Clothing & Accessories,98.42105263157895                           \n",
    "18-34,female,Electronics,101.94736842105263                                     \n",
    "18-34,female,Furniture,98.63157894736842\n",
    "```"
   ]
  },
  {
   "cell_type": "code",
   "execution_count": 6,
   "id": "e9d4dbae-6b1d-444c-9a63-19eb06b84aae",
   "metadata": {},
   "outputs": [],
   "source": [
    "# TODO: Group data by age.group, gender, and purchase.category; calculate average purchase amount; and\n",
    "# export the resulting DataFrame to average_spending_by_demographics.csv\n",
    "merge_purchase_data = pd.merge(customer_data, purchase_melt, on='customer.id')\n",
    "merge_purchase_data\n",
    "grouping = merge_purchase_data.groupby([\"age.group\", \"gender\", \"purchase.category\"], axis=0).mean(numeric_only = True)\n",
    "grouping.drop([\"age\",\"customer.id\"],axis=1, inplace=True)\n",
    "grouping.to_csv(\"average_spending_by_demographics.csv\")"
   ]
  },
  {
   "cell_type": "markdown",
   "id": "17a675d0-ab92-469e-9e02-cc208da77611",
   "metadata": {},
   "source": [
    "## Part 2: Sales Analysis\n",
    "\n",
    "In this problem, you'll analyze sales data from different regions to identify top-selling products, brands, and regions.\n",
    "\n",
    "### Step 1: Load the data and take a look at how it is structured! \n",
    "\n",
    "There are three data files: `sales.csv`, `regions.csv`, and `products.csv`.  Some of these files are comma-separated (`,`) and some use semicolons (`;`) for separating columns.  Why?  Some column text *contains* commas that we want to preserve, so using commas as separators wouldget ugly!"
   ]
  },
  {
   "cell_type": "code",
   "execution_count": 7,
   "id": "79bfd12b-3609-4019-bc84-2fa611947f29",
   "metadata": {},
   "outputs": [],
   "source": [
    "# TODO: Load the sales data from 'sales.csv'\n",
    "sales_data = pd.read_csv('sales.csv',sep=';')"
   ]
  },
  {
   "cell_type": "code",
   "execution_count": 8,
   "id": "543192a3-74ca-4e36-a5d6-e72c7b2f6253",
   "metadata": {},
   "outputs": [],
   "source": [
    "# TODO: Load region data from 'regions.csv'\n",
    "regions_data = pd.read_csv(\"regions.csv\")"
   ]
  },
  {
   "cell_type": "code",
   "execution_count": 9,
   "id": "dfc172f1-3241-4367-b26e-89887a3c234f",
   "metadata": {},
   "outputs": [],
   "source": [
    "# TODO: Load product data from 'products.csv'\n",
    "products_data = pd.read_csv('products.csv',sep=';')"
   ]
  },
  {
   "cell_type": "markdown",
   "id": "d07fd4ef-0e22-404e-bc03-f05366605fd4",
   "metadata": {},
   "source": [
    "Notice the price column in the products data?  The prices all have dollar signs, which means that column contains strings rather than floats.  Let's get rid of it and convert the prices to floats!  If you named your products `DataFrame` `products`, you can just use the cell below; otherwise you'll just need to change the `DataFrame` variable name to match what you did above.\n",
    "\n",
    "(P.S. we'll learn about `regex` next session!)"
   ]
  },
  {
   "cell_type": "code",
   "execution_count": 10,
   "id": "69ab3cf7-fb51-4a24-821c-cb1c139d8610",
   "metadata": {},
   "outputs": [],
   "source": [
    "# Remove that pesky dollar sign and convert prices to floats!\n",
    "products_data.price = products_data.price.str.replace('$', '', regex=False).astype(float)"
   ]
  },
  {
   "cell_type": "markdown",
   "id": "cd64e567-b18f-414c-aa0d-a67259083a4d",
   "metadata": {},
   "source": [
    "### Step 2: Merge data\n",
    "\n",
    "Now we want to merge all this data together into a single `DataFrame`."
   ]
  },
  {
   "cell_type": "code",
   "execution_count": 11,
   "id": "99d807c0-f4e8-4692-8b81-bb03b4d2e566",
   "metadata": {},
   "outputs": [],
   "source": [
    "# TODO: Merge the sales data frame with the regions data frame.  \n",
    "# Hint: Watch out for column names that don't match!\n",
    "m_sales_data = pd.merge(sales_data, regions_data, left_on='region', right_on='region.id')"
   ]
  },
  {
   "cell_type": "code",
   "execution_count": 12,
   "id": "e303cd53-6eaa-403a-8bca-e0c460ab2b9d",
   "metadata": {},
   "outputs": [],
   "source": [
    "# TODO: Merge the DataFrame you just created with the products data frame.\n",
    "# Hint: You'll want to merge on *multiple columns*!\n",
    "m_final_data = pd.merge(m_sales_data,products_data,on=['product.id','product.title'])"
   ]
  },
  {
   "cell_type": "markdown",
   "id": "625ff06e-c7fc-49ce-b5e6-56bd21a359dd",
   "metadata": {},
   "source": [
    "### Step 3: Create a `sales` column\n",
    "\n",
    "Right now, we have a column for the `quantity` of sales for a given product in a given region, and the `price` of that product.  Use those to create a **new** column called `sales` that is the gross sales amount (in dollars) for that product in the region specified.\n",
    "\n",
    "**Hint:** *Yes, it's as simple as multiplying the columns.*"
   ]
  },
  {
   "cell_type": "code",
   "execution_count": 13,
   "id": "4608d533-1feb-4ba9-a21d-e44b2a5c4f21",
   "metadata": {},
   "outputs": [],
   "source": [
    "# TODO: Create a new 'sales' column based on 'quantity' and 'price'\n",
    "m_final_data[\"sales\"] = m_final_data[\"quantity\"] * m_final_data[\"price\"]"
   ]
  },
  {
   "cell_type": "markdown",
   "id": "866e5a64-7fff-4ded-952b-79fb2ab691a9",
   "metadata": {},
   "source": [
    "### Step 4: Compute and write out some useful summary data\n",
    "\n",
    "Your management team has three questions:\n",
    "- Q1: What are our top-selling brands (by dollar amount)?\n",
    "- Q2: What are our top-selling items (by dollar amount)?\n",
    "- Q3: What are our top-selling regions (by dollar amount)?\n",
    "\n",
    "\n",
    "Your task is to group, aggregate, and sort the data to answer these questions, and write out three files.\n",
    "\n",
    "\n",
    "The first five lines of `top_selling_brands.csv` should look like this.\n",
    "\n",
    "```\n",
    "brand,sales                                                                     \n",
    "Lifetime,92843864.87                                                            \n",
    "ECR4Kids,57093850.48                                                            \n",
    "American Educational Products,56568976.25                                       \n",
    "LEGO,43421577.93 \n",
    "```\n",
    "\n",
    "The first five lines of `top_selling_products.csv` should look like this.\n",
    "\n",
    "```\n",
    "product.id;product.title;sales                                                  \n",
    "B004J2HY2M;Lifetime Monkey Bar Adventure Swing Set with 9 Foot Wavy Slide;56158438.410000004\n",
    "B00C9G4V3K;EISCO Steel Goggle Sanitizer Cabinet, 120 VAC, For 35 Pairs;20561079.330000002\n",
    "B004ZAITYK;ECR4Kids SoftZone Single Tunnel Maze Foam Play Climber;19423168.75   \n",
    "B00NBHXW9U;WeDo Construction Set;13647155.02 \n",
    "```\n",
    "\n",
    "The first five lines of `top_selling_regions.csv` should look like this.\n",
    "\n",
    "```\n",
    "region,sales                                                                    \n",
    "26,55334107.13                                                                  \n",
    "17,53234412.76                                                                  \n",
    "25,49942514.77                                                                  \n",
    "56,44038923.27\n",
    "```\n",
    "\n",
    "*Note this assignment will be evaluated on your ability to write code to generate the full `csv` files, not to actually answer the questions.  In the real world, answering the questions is obviously more important, but right now we're focused on sharpening your programming and data managemnt skills!*"
   ]
  },
  {
   "cell_type": "code",
   "execution_count": 14,
   "id": "5a686699-7e1c-4b95-bea0-39b98ad0c040",
   "metadata": {},
   "outputs": [],
   "source": [
    "# TODO: To answer Q1, group the data by brand and sum the sales column. Then sort \n",
    "# the rows by sales so the largest is at the top.  Finally, write out the result to\n",
    "# 'top_selling_brands.csv` so it matches the example lines above.\n",
    "top_selling_brands = m_final_data.groupby('brand')['sales'].sum(numeric_only=True).reset_index()\n",
    "top_selling_brands = top_selling_brands.sort_values(by='sales', ascending=False)\n",
    "top_selling_brands.to_csv(\"top_selling_brands.csv\", index=False,header=True)"
   ]
  },
  {
   "cell_type": "code",
   "execution_count": 15,
   "id": "f094b678-12d9-4fe5-bdde-c820bf640fb6",
   "metadata": {},
   "outputs": [],
   "source": [
    "# TODO: To answer Q2, group the data by product and sum the sales column. Then sort \n",
    "# the rows by sales so the largest is at the top.  Finally, write out the result to\n",
    "# 'top_selling_products.csv` so it matches the example lines above.\n",
    "# Hint: You may need to specifiy more than one column to group by!\n",
    "top_selling_products = m_final_data.groupby(['product.id','product.title'])['sales'].sum(numeric_only=True).reset_index()\n",
    "top_selling_products = top_selling_products.sort_values(by='sales', ascending=False)\n",
    "top_selling_products.to_csv(\"top_selling_products.csv\", sep=\";\", index=False, header=True)"
   ]
  },
  {
   "cell_type": "code",
   "execution_count": 16,
   "id": "94dbc102",
   "metadata": {},
   "outputs": [],
   "source": [
    "# TODO: To answer Q3, group the data by product and sum the sales column. Then sort \n",
    "# the rows by sales so the largest is at the top.  Finally, write out the result to\n",
    "# 'top_selling_products.csv` so it matches the example lines above.\n",
    "# Hint: You may need to specifiy more than one column to group by!\n",
    "top_selling_regions = m_final_data.groupby('region')['sales'].sum(numeric_only=True).reset_index()\n",
    "top_selling_regions = top_selling_regions.sort_values(by='sales', ascending=False)\n",
    "top_selling_regions.to_csv(\"top_selling_regions.csv\",index=False,header=True)"
   ]
  }
 ],
 "metadata": {
  "kernelspec": {
   "display_name": "Python 3 (ipykernel)",
   "language": "python",
   "name": "python3"
  },
  "language_info": {
   "codemirror_mode": {
    "name": "ipython",
    "version": 3
   },
   "file_extension": ".py",
   "mimetype": "text/x-python",
   "name": "python",
   "nbconvert_exporter": "python",
   "pygments_lexer": "ipython3",
   "version": "3.10.9"
  }
 },
 "nbformat": 4,
 "nbformat_minor": 5
}
