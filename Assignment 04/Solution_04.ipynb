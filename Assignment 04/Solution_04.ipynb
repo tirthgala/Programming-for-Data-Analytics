{
 "cells": [
  {
   "cell_type": "markdown",
   "id": "c5f50296-63e8-4e9d-9005-1d02dce994bb",
   "metadata": {},
   "source": [
    "# Assignment 4\n",
    "*This is assignment is to be done **individually**.*\n",
    "\n",
    "The objective of this assignment is to give you experience composing programs with functions, string formatting, and random numbers.\n",
    "\n",
    "Please meet the specific requirements exactly. Do not change or remove any of the instructions; just add you name and NetID in the Markdown cell below and code in two code cells as indicated.  Please make sure to test your programs before submitting your solutions on Canvas!  You can add extra cells to debug, but please remove them before submitting as it makes grading easier."
   ]
  },
  {
   "cell_type": "markdown",
   "id": "942c4a65-e32a-4a0b-b874-835fd9094a16",
   "metadata": {},
   "source": [
    "**Name:** Tirth Gala\n",
    "\n",
    "**NetID:** tg260"
   ]
  },
  {
   "cell_type": "markdown",
   "id": "17a675d0-ab92-469e-9e02-cc208da77611",
   "metadata": {},
   "source": [
    "## Part 1: Employee Bonus Calculator\n",
    "Create a program that calculates the bonus amount for employees based on their performance rating and years of service. Design a function that takes the performance rating and years of service as inputs and returns the bonus amount. Consider the following rules:\n",
    "\n",
    "- If the performance rating is \"Excellent\" and years of service are greater than or equal to 5, the bonus amount is \\$10,000.\n",
    "- If the performance rating is \"Good\" or \"Excellent\" and years of service are greater than or equal to 3, the bonus amount is \\$5,000.\n",
    "- For any other combination of performance rating and years of service, the bonus amount is \\$2,000.\n",
    "\n",
    "Once you have written this function, write some additional code to read in the file `employees.csv` and calculate the bonus for each employee.  The `employees.csv` file has one employee per line and a header line that describes each of the columns; the first five lines of the file are as follows.\n",
    "\n",
    "```\n",
    "name,rating,years.service\n",
    "Theresa Bauer,Good,3\n",
    "Francis Shook,Excellent,3\n",
    "Frank Payne,Acceptable,7\n",
    "James Pearson,Good,2\n",
    "```\n",
    "\n",
    "Please calculate the bonus for each employee and output the results in a file named `bonuses.csv`; the first five lines of the output file should look like this:\n",
    "\n",
    "```\n",
    "name,bonus\n",
    "Theresa Bauer,5000\n",
    "Francis Shook,5000\n",
    "Frank Payne,2000\n",
    "James Pearson,2000\n",
    "```\n",
    "\n",
    "---\n",
    "__Hint:__ *If you want to get fancy with string splitting, try [assigning the split to multiple variables](https://bobbyhadz.com/blog/python-split-string-into-multiple-variables)!*"
   ]
  },
  {
   "cell_type": "code",
   "execution_count": 22,
   "id": "79bfd12b-3609-4019-bc84-2fa611947f29",
   "metadata": {
    "scrolled": true
   },
   "outputs": [],
   "source": [
    "# TODO: define a function to calculate an employee's bonus given a performance\n",
    "# rating and years of serive.  Return the bonus amount.\n",
    "\n",
    "def employee_bonus(bonus):\n",
    "    file = open(bonus,'r')\n",
    "    n_file = open('bonuses.csv','w')\n",
    "    n_file.write('name,bonus\\n')\n",
    "    eb = file.readlines()\n",
    "    for r in range(1,len(eb)):\n",
    "        name,rating,years = eb[r].split(\",\").strip()\n",
    "        if rating==\"Excellent\" and int(years)>= 5:\n",
    "            e_bonus = 10000\n",
    "        elif rating==\"Excellent\" or rating==\"Good\" and int(years)>=3:\n",
    "            e_bonus = 5000\n",
    "        else :\n",
    "            e_bonus = 2000\n",
    "        result = (f\"{name},{e_bonus}\\n\")\n",
    "        n_file.write(result)\n",
    "    n_file.close()"
   ]
  },
  {
   "cell_type": "code",
   "execution_count": 39,
   "id": "fc2dbacb",
   "metadata": {},
   "outputs": [],
   "source": [
    "def employee_bonus(bonus):\n",
    "    file = open(bonus,'r')\n",
    "    new_file= open(\"bonuses.csv\",\"w\")\n",
    "    new_file.write(\"name,bonus\\n\")\n",
    "    eb=file.readlines()\n",
    "    for r in range(1,len(eb)):\n",
    "        name,rating,years = eb[r].split(\",\")\n",
    "        if rating==\"Excellent\" and int(years)>= 5:\n",
    "            bonus = 10000\n",
    "        elif rating==\"Excellent\" or rating==\"Good\" and int(years)>=3:\n",
    "            bonus = 5000\n",
    "        else :\n",
    "            bonus = 2000\n",
    "        result = (f\"{name},{bonus} \\n\")\n",
    "        new_file.write(result)\n",
    "    file.close()\n",
    "    new_file.close()"
   ]
  },
  {
   "cell_type": "code",
   "execution_count": 40,
   "id": "70363fba-80bb-42ec-9dc8-df935bbf7579",
   "metadata": {},
   "outputs": [],
   "source": [
    "# TODO: Use the function you just defined to calculate bonuses for the employees \n",
    "# listed in the employees.csv file; output your results to a file called bonuses.csv\n",
    "# Please make sure to format the file as descibed above.\n",
    "employee_bonus(\"employees.csv\")"
   ]
  },
  {
   "cell_type": "markdown",
   "id": "093b0156-3564-4cc3-be71-703a0e3ca039",
   "metadata": {},
   "source": [
    "## Part 2: Customer Satisfaction Survey\n",
    "Write a function called `calculate_satisfaction_rating` that simulates a customer satisfaction rating based on randomly selected responses.  This function will takes the number of responses as input and returns the overall satisfaction rating. Use the following probabilities for ratings:\n",
    "\n",
    "- \"Very Satisfied\" (rating 5) - 40% probability\n",
    "- \"Satisfied\" (rating 4) - 30% probability\n",
    "- \"Neutral\" (rating 3) - 15% probability\n",
    "- \"Dissatisfied\" (rating 2) - 10% probability\n",
    "- \"Very Dissatisfied\" (rating 1) - 5% probability\n",
    "\n",
    "Use this function to calcuate the average rating for multiple sample sizes samples as shown below."
   ]
  },
  {
   "cell_type": "code",
   "execution_count": 41,
   "id": "78143bf3-3609-4fa9-b2e6-0c123effa008",
   "metadata": {},
   "outputs": [],
   "source": [
    "# TODO: define your function here\n",
    "import random\n",
    "def calculate_satisfaction_rating(num_responses):\n",
    "    ratings_res = {5: 0.4, 4:0.3, 3:0.15, 2:0.1, 1:0.05}\n",
    "    responses= random.choices(list(ratings_res.keys()), list(ratings_res.values()), k=num_responses)\n",
    "    rating = sum(responses)/num_responses\n",
    "    \n",
    "    return rating"
   ]
  },
  {
   "cell_type": "code",
   "execution_count": 53,
   "id": "59d985d0",
   "metadata": {},
   "outputs": [],
   "source": [
    "import random\n",
    "def calculate_satisfaction_rating(num_responses):\n",
    "    ratings = {5: 0.4, 4: 0.3, 3: 0.15, 2: 0.1, 1: 0.05}\n",
    "    res = random.choices(list(ratings.keys()), list(ratings.values()), k=num_responses)\n",
    "    return sum(res)/num_responses"
   ]
  },
  {
   "cell_type": "code",
   "execution_count": 54,
   "id": "1e75173f-fad7-4a41-85a4-503366610ec3",
   "metadata": {},
   "outputs": [
    {
     "name": "stdout",
     "output_type": "stream",
     "text": [
      "10 3.9\n",
      "100 3.84\n",
      "1000 3.93\n",
      "10000 3.8975\n",
      "100000 3.89928\n",
      "1000000 3.90046\n"
     ]
    }
   ],
   "source": [
    "# Do not change this code; just run it with the function you've defined above!\n",
    "for num_responses in [10, 100, 1000, 10000, 100000, 1000000]:\n",
    "    rating = calculate_satisfaction_rating(num_responses)\n",
    "    print(num_responses, rating)"
   ]
  },
  {
   "cell_type": "code",
   "execution_count": null,
   "id": "e5af5d12",
   "metadata": {},
   "outputs": [],
   "source": []
  }
 ],
 "metadata": {
  "kernelspec": {
   "display_name": "Python 3 (ipykernel)",
   "language": "python",
   "name": "python3"
  },
  "language_info": {
   "codemirror_mode": {
    "name": "ipython",
    "version": 3
   },
   "file_extension": ".py",
   "mimetype": "text/x-python",
   "name": "python",
   "nbconvert_exporter": "python",
   "pygments_lexer": "ipython3",
   "version": "3.10.9"
  }
 },
 "nbformat": 4,
 "nbformat_minor": 5
}
